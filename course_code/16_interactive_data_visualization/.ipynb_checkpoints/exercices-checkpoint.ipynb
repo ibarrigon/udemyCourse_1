{
 "cells": [
  {
   "cell_type": "code",
   "execution_count": 17,
   "id": "10504b45-a54d-48f3-ae9e-b6629f5aff79",
   "metadata": {},
   "outputs": [],
   "source": [
    "# import Bokeh: Interface plotting\n",
    "# impor pandas\n",
    "from bokeh.plotting import figure\n",
    "from bokeh.io import output_file, show\n",
    "import pandas\n",
    "\n",
    "# Read data\n",
    "data_csv = pandas.read_csv('./files/bachelors.csv')\n",
    "\n",
    "# create a figure object\n",
    "bachelors_plot = figure()\n",
    "\n",
    "# create line plot\n",
    "bachelors_plot.line(data_csv['Year'], data_csv['Engineering'])\n",
    "\n",
    "# prepare the output\n",
    "output_file('./generated/exercice_1_bachelors.html')\n",
    "# write the plot in the figure object\n",
    "show(bachelors_plot)"
   ]
  },
  {
   "cell_type": "code",
   "execution_count": 18,
   "id": "15a5b7be-9aaf-4b36-aa32-07f44abe4ad7",
   "metadata": {},
   "outputs": [],
   "source": [
    "from bokeh.plotting import figure, output_file, show\n",
    "import pandas\n",
    "\n",
    "# Direct connection to data if its in a .py file\n",
    "# verlegenhuken_data = pandas.read_excel(\"https://github.com/pythonizing/data/blob/master/verlegenhuken.xlsx\", sheet_name=0)\n",
    "verlegenhuken_data = pandas.read_excel(\"./files/verlegenhuken.xlsx\", sheet_name=0)\n",
    "\n",
    "verlegenhuken_plot = figure()\n",
    "\n",
    "verlegenhuken_plot.title.text=\"Temperature and Air Pressure\"\n",
    "\n",
    "verlegenhuken_plot.xaxis.minor_tick_line_color=None\n",
    "verlegenhuken_plot.yaxis.minor_tick_line_color=None\n",
    "\n",
    "verlegenhuken_plot.xaxis.axis_label = \"Temperature (°C)\"\n",
    "verlegenhuken_plot.yaxis.axis_label = \"Pressure (hPa)\"\n",
    "\n",
    "# Latest version 'circle' is deprecated and we can use 'scatter'\n",
    "verlegenhuken_plot.scatter(x = verlegenhuken_data[\"Temperature\"] / 10, y = verlegenhuken_data[\"Pressure\"] / 10, size = 0.5, marker = 'circle')\n",
    "\n",
    "output_file(\"./generated/exercice_2.html\")\n",
    "show(verlegenhuken_plot)"
   ]
  },
  {
   "cell_type": "code",
   "execution_count": null,
   "id": "2241c7c0-3d51-486d-a44e-840533e5e501",
   "metadata": {},
   "outputs": [],
   "source": []
  }
 ],
 "metadata": {
  "kernelspec": {
   "display_name": "Python 3 (ipykernel)",
   "language": "python",
   "name": "python3"
  },
  "language_info": {
   "codemirror_mode": {
    "name": "ipython",
    "version": 3
   },
   "file_extension": ".py",
   "mimetype": "text/x-python",
   "name": "python",
   "nbconvert_exporter": "python",
   "pygments_lexer": "ipython3",
   "version": "3.12.8"
  }
 },
 "nbformat": 4,
 "nbformat_minor": 5
}
