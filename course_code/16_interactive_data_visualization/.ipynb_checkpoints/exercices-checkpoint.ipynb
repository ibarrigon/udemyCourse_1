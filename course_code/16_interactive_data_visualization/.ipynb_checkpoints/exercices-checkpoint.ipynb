{
 "cells": [
  {
   "cell_type": "code",
   "execution_count": 2,
   "id": "10504b45-a54d-48f3-ae9e-b6629f5aff79",
   "metadata": {},
   "outputs": [],
   "source": [
    "# import Bokeh: Interface plotting\n",
    "# impor pandas\n",
    "from bokeh.plotting import figure\n",
    "from bokeh.io import output_file, show\n",
    "import pandas\n",
    "\n",
    "# Read data\n",
    "dataCSV = pandas.read_csv('./files/bachelors.csv')\n",
    "\n",
    "# create a figure object\n",
    "bachelorsPlot = figure()\n",
    "\n",
    "# create line plot\n",
    "bachelorsPlot.line(dataCSV['Year'], dataCSV['Engineering'])\n",
    "\n",
    "# prepare the output\n",
    "output_file('./files/exercice_1_bachelors.html')\n",
    "# write the plot in the figure object\n",
    "show(bachelorsPlot)"
   ]
  },
  {
   "cell_type": "code",
   "execution_count": 15,
   "id": "15a5b7be-9aaf-4b36-aa32-07f44abe4ad7",
   "metadata": {},
   "outputs": [],
   "source": [
    "from bokeh.plotting import figure, output_file, show\n",
    "import pandas\n",
    "\n",
    "# Direct connection to data if its in a .py file\n",
    "# verlegenhukenData = pandas.read_excel(\"https://github.com/pythonizing/data/blob/master/verlegenhuken.xlsx\", sheet_name=0)\n",
    "verlegenhukenData = pandas.read_excel(\"./files/verlegenhuken.xlsx\", sheet_name=0)\n",
    "\n",
    "verlegenhukenPlot = figure()\n",
    "\n",
    "verlegenhukenPlot.title.text=\"Temperature and Air Pressure\"\n",
    "\n",
    "verlegenhukenPlot.xaxis.minor_tick_line_color=None\n",
    "verlegenhukenPlot.yaxis.minor_tick_line_color=None\n",
    "\n",
    "verlegenhukenPlot.xaxis.axis_label = \"Temperature (°C)\"\n",
    "verlegenhukenPlot.yaxis.axis_label = \"Pressure (hPa)\"\n",
    "\n",
    "# Latest version 'circle' is deprecated and we can use 'scatter'\n",
    "verlegenhukenPlot.scatter(x = verlegenhukenData[\"Temperature\"] / 10, y = verlegenhukenData[\"Pressure\"] / 10, size = 0.5, marker = 'circle')\n",
    "\n",
    "output_file(\"./files/exercice_2.html\")\n",
    "show(verlegenhukenPlot)"
   ]
  }
 ],
 "metadata": {
  "kernelspec": {
   "display_name": "Python 3 (ipykernel)",
   "language": "python",
   "name": "python3"
  },
  "language_info": {
   "codemirror_mode": {
    "name": "ipython",
    "version": 3
   },
   "file_extension": ".py",
   "mimetype": "text/x-python",
   "name": "python",
   "nbconvert_exporter": "python",
   "pygments_lexer": "ipython3",
   "version": "3.12.8"
  }
 },
 "nbformat": 4,
 "nbformat_minor": 5
}
