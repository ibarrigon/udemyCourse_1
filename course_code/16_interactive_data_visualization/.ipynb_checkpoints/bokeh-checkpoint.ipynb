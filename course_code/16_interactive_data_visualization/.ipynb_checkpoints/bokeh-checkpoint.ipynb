{
 "cells": [
  {
   "cell_type": "code",
   "execution_count": 22,
   "id": "7a81ee23-b19d-4eac-8e21-7ac5b76b18e6",
   "metadata": {},
   "outputs": [],
   "source": [
    "# Making a basic Bokeh line graph\n",
    "# import Bokeh: Interface plotting\n",
    "from bokeh.plotting import figure\n",
    "from bokeh.io import output_file, show\n",
    "\n",
    "# prepare some date\n",
    "x = [1, 2, 3, 4, 5] # X axis\n",
    "y = [6, 7, 8, 9, 10] # Y axis\n",
    "\n",
    "# prepare the output\n",
    "output_file('./files/line.html')\n",
    "# create a figure object\n",
    "figurePlotLine = figure()\n",
    "# create line plot\n",
    "figurePlotLine.line(x, y)\n",
    "# write the plot in the figure object\n",
    "show(figurePlotLine)\n",
    "\n",
    "# prepare the output\n",
    "output_file('./files/triangle.html')\n",
    "# create a figure object\n",
    "figurePlotTriangles = figure()\n",
    "# create plot with triangles in coordinates\n",
    "figurePlotTriangles.scatter(x, y, marker = 'triangle') # Use help(f.scatter) to see more options\n",
    "# write the plot in the figure object\n",
    "show(figurePlotTriangles)\n",
    "\n",
    "# prepare the output\n",
    "output_file('./files/circle.html')\n",
    "# create a figure object\n",
    "figurePlotCircles = figure()\n",
    "# create plot with triangles in coordinates\n",
    "figurePlotCircles.circle(x, y, radius = 0.05) # 0.05 dot radius. Use help(f.circle) to see more options\n",
    "# write the plot in the figure object\n",
    "show(figurePlotCircles)"
   ]
  },
  {
   "cell_type": "code",
   "execution_count": 23,
   "id": "681239a4-5799-4df1-9498-8c9071707d64",
   "metadata": {},
   "outputs": [],
   "source": [
    "# Making a basic Bokeh line graph\n",
    "# import Bokeh: Interface plotting\n",
    "# impor pandas\n",
    "from bokeh.plotting import figure\n",
    "from bokeh.io import output_file, show\n",
    "import pandas\n",
    "\n",
    "dataCSV = pandas.read_csv('./files/data.csv')\n",
    "\n",
    "# prepare the output\n",
    "output_file('./files/line_from_csv.html')\n",
    "# create a figure object\n",
    "f = figure()\n",
    "# create line plot\n",
    "f.line(dataCSV['x'], dataCSV['y'])\n",
    "# write the plot in the figure object\n",
    "show(f)"
   ]
  },
  {
   "cell_type": "code",
   "execution_count": 31,
   "id": "fbdf249f-1bb4-4814-a405-6a69bc8d7353",
   "metadata": {},
   "outputs": [],
   "source": [
    "from bokeh.plotting import figure, output_file, show\n",
    "\n",
    "p = figure(min_width = 500, min_height = 400, tools = 'pan')\n",
    "\n",
    "p.title.text = \"Cool Data\"\n",
    "p.title.text_color = \"Gray\"\n",
    "p.title.text_font = \"times\"\n",
    "p.title.text_font_style = \"bold\"\n",
    "p.xaxis.minor_tick_line_color = None\n",
    "p.yaxis.minor_tick_line_color = None\n",
    "p.xaxis.axis_label = \"Date\"\n",
    "p.yaxis.axis_label = \"Intensity\"\n",
    " \n",
    "p.line([1, 2, 3], [4, 5, 6])\n",
    "output_file(\"./files/graph.html\")\n",
    "show(p)\n"
   ]
  },
  {
   "cell_type": "code",
   "execution_count": 33,
   "id": "5ce52a91-f223-498f-a9e9-77a9ff1125e1",
   "metadata": {},
   "outputs": [
    {
     "ename": "NameError",
     "evalue": "name 'verlegenhukenPlot' is not defined",
     "output_type": "error",
     "traceback": [
      "\u001b[0;31m---------------------------------------------------------------------------\u001b[0m",
      "\u001b[0;31mNameError\u001b[0m                                 Traceback (most recent call last)",
      "Cell \u001b[0;32mIn[33], line 20\u001b[0m\n\u001b[1;32m     17\u001b[0m examplePlot\u001b[38;5;241m.\u001b[39mscatter(x \u001b[38;5;241m=\u001b[39m [\u001b[38;5;241m1\u001b[39m,\u001b[38;5;241m2\u001b[39m,\u001b[38;5;241m3\u001b[39m,\u001b[38;5;241m4\u001b[39m,\u001b[38;5;241m5\u001b[39m], y \u001b[38;5;241m=\u001b[39m [\u001b[38;5;241m5\u001b[39m,\u001b[38;5;241m6\u001b[39m,\u001b[38;5;241m5\u001b[39m,\u001b[38;5;241m5\u001b[39m,\u001b[38;5;241m3\u001b[39m], size \u001b[38;5;241m=\u001b[39m [i\u001b[38;5;241m*\u001b[39m\u001b[38;5;241m2\u001b[39m \u001b[38;5;28;01mfor\u001b[39;00m i \u001b[38;5;129;01min\u001b[39;00m [\u001b[38;5;241m8\u001b[39m,\u001b[38;5;241m12\u001b[39m,\u001b[38;5;241m14\u001b[39m,\u001b[38;5;241m15\u001b[39m,\u001b[38;5;241m20\u001b[39m]], color \u001b[38;5;241m=\u001b[39m \u001b[38;5;124m\"\u001b[39m\u001b[38;5;124mred\u001b[39m\u001b[38;5;124m\"\u001b[39m, alpha \u001b[38;5;241m=\u001b[39m \u001b[38;5;241m0.5\u001b[39m)\n\u001b[1;32m     19\u001b[0m output_file(\u001b[38;5;124m\"\u001b[39m\u001b[38;5;124m./files/scatter_ploting.html\u001b[39m\u001b[38;5;124m\"\u001b[39m)\n\u001b[0;32m---> 20\u001b[0m show(\u001b[43mverlegenhukenPlot\u001b[49m)\n",
      "\u001b[0;31mNameError\u001b[0m: name 'verlegenhukenPlot' is not defined"
     ]
    }
   ],
   "source": [
    "from bokeh.plotting import figure, output_file, show\n",
    "import pandas\n",
    "\n",
    "examplePlot = figure(min_width = 500, min_height = 400, tools = 'pan, reset')\n",
    "\n",
    "examplePlot.title.text=\"Earthquakes\"\n",
    "examplePlot.title.text_color = \"Orange\"\n",
    "examplePlot.title.text_font = \"times\"\n",
    "examplePlot.title.text_font_style = \"italic\"\n",
    "\n",
    "examplePlot.xaxis.minor_tick_line_color = None\n",
    "examplePlot.yaxis.minor_tick_line_color = \"Yellow\"\n",
    "\n",
    "examplePlot.xaxis.axis_label = \"Times\"\n",
    "examplePlot.yaxis.axis_label = \"Value\"\n",
    "\n",
    "examplePlot.scatter(x = [1,2,3,4,5], y = [5,6,5,5,3], size = [i*2 for i in [8,12,14,15,20]], color = \"red\", alpha = 0.5)\n",
    "\n",
    "output_file(\"./files/scatter_ploting.html\")\n",
    "show(examplePlot)"
   ]
  },
  {
   "cell_type": "code",
   "execution_count": null,
   "id": "113abf7c-d20c-47f4-8d81-4e8216585062",
   "metadata": {},
   "outputs": [],
   "source": []
  }
 ],
 "metadata": {
  "kernelspec": {
   "display_name": "Python 3 (ipykernel)",
   "language": "python",
   "name": "python3"
  },
  "language_info": {
   "codemirror_mode": {
    "name": "ipython",
    "version": 3
   },
   "file_extension": ".py",
   "mimetype": "text/x-python",
   "name": "python",
   "nbconvert_exporter": "python",
   "pygments_lexer": "ipython3",
   "version": "3.12.8"
  }
 },
 "nbformat": 4,
 "nbformat_minor": 5
}
